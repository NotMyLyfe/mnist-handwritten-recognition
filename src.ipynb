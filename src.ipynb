{
 "cells": [
  {
   "cell_type": "code",
   "execution_count": null,
   "metadata": {},
   "outputs": [],
   "source": [
    "from torch import nn\n",
    "import torch\n",
    "\n",
    "# Setting the device to use\n",
    "\n",
    "# Default device is CPU\n",
    "device = \"cpu\"\n",
    "\n",
    "# If CUDA is available, use it\n",
    "if torch.cuda.is_available():\n",
    "    device = \"cuda\"\n",
    "# If running on macOS and with Metal, use it\n",
    "elif torch.backends.mps.is_available():\n",
    "    device =\"mps\"\n",
    "\n",
    "print(\"Using device: \", device)\n",
    "torch.device(device)"
   ]
  },
  {
   "cell_type": "code",
   "execution_count": null,
   "metadata": {},
   "outputs": [],
   "source": [
    "from torchvision.datasets import MNIST\n",
    "from torchvision.transforms import ToTensor\n",
    "\n",
    "training_data = MNIST(root=\"data\", train=True, download=True, transform=ToTensor())\n",
    "\n",
    "training_set_size = len(training_data)\n",
    "\n",
    "# Splitting the training data into training and validation sets\n",
    "validation_set_size = int(0.2 * training_set_size)\n",
    "training_set_size -= validation_set_size\n",
    "\n",
    "training_set, validation_set = torch.utils.data.random_split(training_data, [training_set_size, validation_set_size])\n",
    "\n",
    "training_loader = torch.utils.data.DataLoader(training_set, batch_size=128, shuffle=True)\n",
    "validation_loader = torch.utils.data.DataLoader(validation_set, batch_size=128, shuffle=True)\n",
    "\n",
    "test_data = MNIST(root=\"data\", train=False, download=True, transform=ToTensor())\n",
    "test_loader = torch.utils.data.DataLoader(test_data, batch_size=128, shuffle=True)"
   ]
  },
  {
   "cell_type": "code",
   "execution_count": null,
   "metadata": {},
   "outputs": [],
   "source": []
  }
 ],
 "metadata": {
  "kernelspec": {
   "display_name": "mnist-handwritten-recognition",
   "language": "python",
   "name": "python3"
  },
  "language_info": {
   "codemirror_mode": {
    "name": "ipython",
    "version": 3
   },
   "file_extension": ".py",
   "mimetype": "text/x-python",
   "name": "python",
   "nbconvert_exporter": "python",
   "pygments_lexer": "ipython3",
   "version": "3.12.7"
  }
 },
 "nbformat": 4,
 "nbformat_minor": 2
}
