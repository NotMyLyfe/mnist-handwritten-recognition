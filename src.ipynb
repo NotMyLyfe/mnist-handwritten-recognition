{
 "cells": [
  {
   "cell_type": "code",
   "execution_count": null,
   "metadata": {},
   "outputs": [],
   "source": [
    "from torch import nn\n",
    "import torch\n",
    "\n",
    "# Setting the device to use\n",
    "\n",
    "# Default device is CPU\n",
    "device = \"cpu\"\n",
    "\n",
    "# If CUDA is available, use it\n",
    "if torch.cuda.is_available():\n",
    "    device = \"cuda\"\n",
    "# If running on macOS and with Metal, use it\n",
    "elif torch.backends.mps.is_available():\n",
    "    device =\"mps\"\n",
    "\n",
    "print(\"Using device: \", device)\n",
    "torch.device(device)"
   ]
  },
  {
   "cell_type": "code",
   "execution_count": 2,
   "metadata": {},
   "outputs": [],
   "source": [
    "from torchvision.datasets import MNIST\n",
    "from torchvision.transforms import ToTensor\n",
    "\n",
    "training_data = MNIST(root=\"data\", train=True, download=True, transform=ToTensor())\n",
    "\n",
    "training_set_size = len(training_data)\n",
    "\n",
    "# Splitting the training data into training and validation sets\n",
    "validation_set_size = int(0.2 * training_set_size)\n",
    "training_set_size -= validation_set_size\n",
    "\n",
    "training_set, validation_set = torch.utils.data.random_split(training_data, [training_set_size, validation_set_size])\n",
    "\n",
    "training_loader = torch.utils.data.DataLoader(training_set, batch_size=128, shuffle=True)\n",
    "validation_loader = torch.utils.data.DataLoader(validation_set, batch_size=128, shuffle=True)\n",
    "\n",
    "test_data = MNIST(root=\"data\", train=False, download=True, transform=ToTensor())\n",
    "test_loader = torch.utils.data.DataLoader(test_data, batch_size=128, shuffle=True)"
   ]
  },
  {
   "cell_type": "code",
   "execution_count": 3,
   "metadata": {},
   "outputs": [],
   "source": [
    "from torch.utils.data import DataLoader\n",
    "from torch.optim import Optimizer, Adam\n",
    "from torch.utils.tensorboard import SummaryWriter"
   ]
  },
  {
   "cell_type": "code",
   "execution_count": 1,
   "metadata": {},
   "outputs": [
    {
     "ename": "NameError",
     "evalue": "name 'nn' is not defined",
     "output_type": "error",
     "traceback": [
      "\u001b[0;31m---------------------------------------------------------------------------\u001b[0m",
      "\u001b[0;31mNameError\u001b[0m                                 Traceback (most recent call last)",
      "Cell \u001b[0;32mIn[1], line 2\u001b[0m\n\u001b[1;32m      1\u001b[0m \u001b[38;5;28;01mdef\u001b[39;00m \u001b[38;5;21mtrain\u001b[39m(epoch : \u001b[38;5;28mint\u001b[39m,\n\u001b[0;32m----> 2\u001b[0m           model : nn\u001b[38;5;241m.\u001b[39mModule,\n\u001b[1;32m      3\u001b[0m           device : \u001b[38;5;28mstr\u001b[39m,\n\u001b[1;32m      4\u001b[0m           train_loader : DataLoader,\n\u001b[1;32m      5\u001b[0m           optimizer : Optimizer,\n\u001b[1;32m      6\u001b[0m           loss_fn : nn\u001b[38;5;241m.\u001b[39mModule,\n\u001b[1;32m      7\u001b[0m           tensorboard : SummaryWriter \u001b[38;5;241m=\u001b[39m \u001b[38;5;28;01mNone\u001b[39;00m) \u001b[38;5;241m-\u001b[39m\u001b[38;5;241m>\u001b[39m \u001b[38;5;28mfloat\u001b[39m:\n\u001b[1;32m      8\u001b[0m     running_loss \u001b[38;5;241m=\u001b[39m \u001b[38;5;241m0.\u001b[39m\n\u001b[1;32m      9\u001b[0m     last_loss \u001b[38;5;241m=\u001b[39m \u001b[38;5;241m0.\u001b[39m\n",
      "\u001b[0;31mNameError\u001b[0m: name 'nn' is not defined"
     ]
    }
   ],
   "source": [
    "def train(epoch : int,\n",
    "          model : nn.Module,\n",
    "          device : str,\n",
    "          train_loader : DataLoader,\n",
    "          optimizer : Optimizer,\n",
    "          loss_fn : nn.Module,\n",
    "          tensorboard : SummaryWriter = None) -> float:\n",
    "    running_loss = 0.\n",
    "    last_loss = 0.\n",
    "\n",
    "    model.train(True)\n",
    "\n",
    "    for idx, (data, target) in enumerate(train_loader):\n",
    "        optimizer.zero_grad()\n",
    "\n",
    "        data, target = data.to(device), target.to(device)\n",
    "\n",
    "        output = model(data)\n",
    "\n",
    "        loss = loss_fn(output, target)\n",
    "        loss.backward()\n",
    "\n",
    "        optimizer.step()\n",
    "\n",
    "        running_loss += loss.item()\n",
    "\n",
    "        if idx % 100 == 99:\n",
    "            last_loss = running_loss / 100\n",
    "            print(f\"Epoch: {epoch}, Batch: {idx + 1}, Loss: {last_loss}\")\n",
    "            if tensorboard is not None:\n",
    "                tensorboard.add_scalar(\"Loss/train\", last_loss, epoch * len(train_loader) + idx)\n",
    "\n",
    "            running_loss = 0.\n",
    "\n",
    "    print(f\"Epoch: {epoch}, Loss: {last_loss}\")\n",
    "    if tensorboard is not None:\n",
    "        tensorboard.add_scalar(\"Loss/train\", last_loss, epoch * len(train_loader) + idx)\n",
    "    \n",
    "    return last_loss"
   ]
  },
  {
   "cell_type": "code",
   "execution_count": 2,
   "metadata": {},
   "outputs": [
    {
     "ename": "NameError",
     "evalue": "name 'nn' is not defined",
     "output_type": "error",
     "traceback": [
      "\u001b[0;31m---------------------------------------------------------------------------\u001b[0m",
      "\u001b[0;31mNameError\u001b[0m                                 Traceback (most recent call last)",
      "Cell \u001b[0;32mIn[2], line 2\u001b[0m\n\u001b[1;32m      1\u001b[0m \u001b[38;5;28;01mdef\u001b[39;00m \u001b[38;5;21mvalidate\u001b[39m(epoch : \u001b[38;5;28mint\u001b[39m,\n\u001b[0;32m----> 2\u001b[0m              model : nn\u001b[38;5;241m.\u001b[39mModule,\n\u001b[1;32m      3\u001b[0m              device : \u001b[38;5;28mstr\u001b[39m,\n\u001b[1;32m      4\u001b[0m              validation_loader : DataLoader,\n\u001b[1;32m      5\u001b[0m              loss_fn : nn\u001b[38;5;241m.\u001b[39mModule,\n\u001b[1;32m      6\u001b[0m              tensorboard : SummaryWriter \u001b[38;5;241m=\u001b[39m \u001b[38;5;28;01mNone\u001b[39;00m) \u001b[38;5;241m-\u001b[39m\u001b[38;5;241m>\u001b[39m \u001b[38;5;28mfloat\u001b[39m:\n\u001b[1;32m      7\u001b[0m     running_loss \u001b[38;5;241m=\u001b[39m \u001b[38;5;241m0.\u001b[39m\n\u001b[1;32m      8\u001b[0m     correct \u001b[38;5;241m=\u001b[39m \u001b[38;5;241m0\u001b[39m\n",
      "\u001b[0;31mNameError\u001b[0m: name 'nn' is not defined"
     ]
    }
   ],
   "source": [
    "def validate(epoch : int,\n",
    "             model : nn.Module,\n",
    "             device : str,\n",
    "             validation_loader : DataLoader,\n",
    "             loss_fn : nn.Module,\n",
    "             tensorboard : SummaryWriter = None) -> float:\n",
    "    running_loss = 0.\n",
    "    correct = 0\n",
    "    total = 0\n",
    "\n",
    "    model.eval()\n",
    "\n",
    "    with torch.no_grad():\n",
    "        for idx, (data, target) in enumerate(validation_loader):\n",
    "            data, target = data.to(device), target.to(device)\n",
    "\n",
    "            output = model(data)\n",
    "\n",
    "            loss = loss_fn(output, target)\n",
    "            running_loss += loss.item()\n",
    "\n",
    "            _, predicted = torch.max(output.data, 1)\n",
    "            total += target.size(0)\n",
    "            correct += (predicted == target).sum().item()\n",
    "\n",
    "            accuracy = correct / total\n",
    "\n",
    "            if idx % 50 == 49:\n",
    "                print(f\"Epoch: {epoch}, Batch: {idx + 1}, Loss: {running_loss / (idx + 1)}, Accuracy: {accuracy}\")\n",
    "                if tensorboard is not None:\n",
    "                    tensorboard.add_scalar(\"Loss/validation\", running_loss / (idx + 1), epoch * len(validation_loader) + idx)\n",
    "                    tensorboard.add_scalar(\"Accuracy/validation\", accuracy, epoch * len(validation_loader) + idx)\n",
    "\n",
    "    print(f\"Epoch: {epoch}, Validation Loss: {running_loss / len(validation_loader)}, Validation Accuracy: {accuracy}\")\n",
    "    if tensorboard is not None:\n",
    "        tensorboard.add_scalar(\"Loss/validation\", running_loss / len(validation_loader), epoch * len(validation_loader))\n",
    "        tensorboard.add_scalar(\"Accuracy/validation\", accuracy, epoch * len(validation_loader))\n",
    "\n",
    "    return running_loss / len(validation_loader)"
   ]
  },
  {
   "cell_type": "code",
   "execution_count": 6,
   "metadata": {},
   "outputs": [],
   "source": [
    "def test(model : nn.Module,\n",
    "         device : str,\n",
    "         test_loader : DataLoader,\n",
    "         tensorboard : SummaryWriter = None) -> float:\n",
    "    correct = 0\n",
    "    total = 0\n",
    "\n",
    "    model.eval()\n",
    "\n",
    "    with torch.no_grad():\n",
    "        for data, target in test_loader:\n",
    "            data, target = data.to(device), target.to(device)\n",
    "\n",
    "            output = model(data)\n",
    "\n",
    "            _, predicted = torch.max(output.data, 1)\n",
    "            total += target.size(0)\n",
    "            correct += (predicted == target).sum().item()\n",
    "\n",
    "            missed_idx = (predicted != target).nonzero()\n",
    "\n",
    "            for idx in missed_idx:\n",
    "                idx = idx.item()\n",
    "                predicted_label = predicted[idx].item()\n",
    "                actual_label = target[idx].item()\n",
    "                image = data[idx].squeeze().cpu().numpy()\n",
    "                \n",
    "                print(f\"Missed: Predicted: {predicted_label}, Actual: {actual_label}\")\n",
    "\n",
    "                if tensorboard is not None:\n",
    "                    tensorboard.add_image(f\"Missed/{idx}, Predicted: {predicted_label}, Actual: {actual_label}\", image, dataformats=\"HW\")\n",
    "\n",
    "\n",
    "    accuracy = correct / total\n",
    "\n",
    "    print(f\"Test accuracy: {accuracy}\")\n",
    "\n",
    "    if tensorboard is not None:\n",
    "        tensorboard.add_scalar(\"Accuracy/test\", accuracy)\n",
    "\n",
    "    return accuracy"
   ]
  },
  {
   "cell_type": "code",
   "execution_count": 7,
   "metadata": {},
   "outputs": [],
   "source": [
    "from datetime import datetime"
   ]
  },
  {
   "cell_type": "code",
   "execution_count": 8,
   "metadata": {},
   "outputs": [],
   "source": [
    "def train_model(model : nn.Module,\n",
    "                device : str,\n",
    "                training_loader : DataLoader,\n",
    "                validation_loader : DataLoader,\n",
    "                test_loader : DataLoader,\n",
    "                optimizer : Optimizer,\n",
    "                loss_fn : nn.Module,\n",
    "                epochs : int,\n",
    "                best_loss : float = float(\"inf\"),\n",
    "                model_name : str = \"model\",\n",
    "                tensorboard : SummaryWriter = None) -> None:\n",
    "    model.to(device)\n",
    "\n",
    "    timestamp = datetime.now().strftime(\"%Y%m%d%H%M%S\")\n",
    "\n",
    "    for epoch in range(epochs):\n",
    "        avg_train_loss = train(epoch, model, device, training_loader, optimizer, loss_fn, tensorboard)\n",
    "        avg_validation_loss = validate(epoch, model, device, validation_loader, loss_fn, tensorboard)\n",
    "\n",
    "        print(f\"Epoch: {epoch}, Average training loss: {avg_train_loss}, Average validation loss: {avg_validation_loss}\")\n",
    "\n",
    "        if tensorboard is not None:\n",
    "            tensorboard.add_scalar(\"Loss/train/epoch\", avg_train_loss, epoch)\n",
    "            tensorboard.add_scalar(\"Loss/validation/epoch\", avg_validation_loss, epoch)\n",
    "\n",
    "            tensorboard.flush()\n",
    "\n",
    "        if avg_validation_loss < best_loss:\n",
    "            best_loss = avg_validation_loss\n",
    "            model_path = f\"models/{model_name}_{timestamp}_{epoch}.pth\"\n",
    "            torch.save(model.state_dict(), model_path)\n",
    "\n",
    "    test(model, device, test_loader, tensorboard)\n"
   ]
  },
  {
   "cell_type": "code",
   "execution_count": 9,
   "metadata": {},
   "outputs": [],
   "source": [
    "class MNISTNet(nn.Module):\n",
    "    def __init__(self):\n",
    "        super().__init__()\n",
    "        self.stack = nn.Sequential(\n",
    "            nn.Flatten(),\n",
    "            nn.Linear(28 * 28, 128),\n",
    "            nn.ReLU(),\n",
    "            nn.Linear(128, 64),\n",
    "            nn.ReLU(),\n",
    "            nn.Linear(64, 10),\n",
    "            nn.LogSoftmax(dim=1)\n",
    "        )\n",
    "\n",
    "    def forward(self, x):\n",
    "        return self.stack(x)"
   ]
  },
  {
   "cell_type": "code",
   "execution_count": 10,
   "metadata": {},
   "outputs": [],
   "source": [
    "model = MNISTNet()\n",
    "optimizer = Adam(model.parameters())\n",
    "\n",
    "logger = SummaryWriter(\"logs\")"
   ]
  },
  {
   "cell_type": "code",
   "execution_count": null,
   "metadata": {},
   "outputs": [],
   "source": [
    "train_model(model, device, training_loader, validation_loader, test_loader, optimizer, nn.CrossEntropyLoss(), 200, model_name=\"mnist\", tensorboard=logger)"
   ]
  },
  {
   "cell_type": "code",
   "execution_count": null,
   "metadata": {},
   "outputs": [],
   "source": []
  }
 ],
 "metadata": {
  "kernelspec": {
   "display_name": "mnist-handwritten-recognition",
   "language": "python",
   "name": "python3"
  },
  "language_info": {
   "codemirror_mode": {
    "name": "ipython",
    "version": 3
   },
   "file_extension": ".py",
   "mimetype": "text/x-python",
   "name": "python",
   "nbconvert_exporter": "python",
   "pygments_lexer": "ipython3",
   "version": "3.12.7"
  }
 },
 "nbformat": 4,
 "nbformat_minor": 2
}
